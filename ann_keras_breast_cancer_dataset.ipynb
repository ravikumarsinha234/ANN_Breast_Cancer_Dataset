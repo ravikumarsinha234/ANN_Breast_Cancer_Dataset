{
  "nbformat": 4,
  "nbformat_minor": 0,
  "metadata": {
    "colab": {
      "provenance": []
    },
    "kernelspec": {
      "name": "python3",
      "display_name": "Python 3"
    },
    "language_info": {
      "name": "python"
    }
  },
  "cells": [
    {
      "cell_type": "code",
      "execution_count": 1,
      "metadata": {
        "colab": {
          "base_uri": "https://localhost:8080/"
        },
        "id": "SV5zO1fWLynj",
        "outputId": "8a4909f6-81df-41c5-c9e5-dd691b092d87"
      },
      "outputs": [
        {
          "output_type": "stream",
          "name": "stdout",
          "text": [
            "Drive already mounted at /content/drive; to attempt to forcibly remount, call drive.mount(\"/content/drive\", force_remount=True).\n"
          ]
        }
      ],
      "source": [
        "from google.colab import drive\n",
        "drive.mount('/content/drive')"
      ]
    },
    {
      "cell_type": "code",
      "source": [
        "import pandas as pd\n",
        "data = pd.read_csv('/content/drive/MyDrive/deep_learning/deep_learning_fawad_hussain_youtube/breast_cancer_dataset.csv') #please add the path of the csv file\n",
        "data.head()"
      ],
      "metadata": {
        "colab": {
          "base_uri": "https://localhost:8080/",
          "height": 273
        },
        "id": "sQiVbwJtNKsa",
        "outputId": "4e68d31d-25ca-4b32-9ae7-bbf849e3c86c"
      },
      "execution_count": 2,
      "outputs": [
        {
          "output_type": "execute_result",
          "data": {
            "text/plain": [
              "         id diagnosis  radius_mean  texture_mean  perimeter_mean  area_mean  \\\n",
              "0    842302         M        17.99         10.38          122.80     1001.0   \n",
              "1    842517         M        20.57         17.77          132.90     1326.0   \n",
              "2  84300903         M        19.69         21.25          130.00     1203.0   \n",
              "3  84348301         M        11.42         20.38           77.58      386.1   \n",
              "4  84358402         M        20.29         14.34          135.10     1297.0   \n",
              "\n",
              "   smoothness_mean  compactness_mean  concavity_mean  concave points_mean  \\\n",
              "0          0.11840           0.27760          0.3001              0.14710   \n",
              "1          0.08474           0.07864          0.0869              0.07017   \n",
              "2          0.10960           0.15990          0.1974              0.12790   \n",
              "3          0.14250           0.28390          0.2414              0.10520   \n",
              "4          0.10030           0.13280          0.1980              0.10430   \n",
              "\n",
              "   ...  texture_worst  perimeter_worst  area_worst  smoothness_worst  \\\n",
              "0  ...          17.33           184.60      2019.0            0.1622   \n",
              "1  ...          23.41           158.80      1956.0            0.1238   \n",
              "2  ...          25.53           152.50      1709.0            0.1444   \n",
              "3  ...          26.50            98.87       567.7            0.2098   \n",
              "4  ...          16.67           152.20      1575.0            0.1374   \n",
              "\n",
              "   compactness_worst  concavity_worst  concave points_worst  symmetry_worst  \\\n",
              "0             0.6656           0.7119                0.2654          0.4601   \n",
              "1             0.1866           0.2416                0.1860          0.2750   \n",
              "2             0.4245           0.4504                0.2430          0.3613   \n",
              "3             0.8663           0.6869                0.2575          0.6638   \n",
              "4             0.2050           0.4000                0.1625          0.2364   \n",
              "\n",
              "   fractal_dimension_worst  Unnamed: 32  \n",
              "0                  0.11890          NaN  \n",
              "1                  0.08902          NaN  \n",
              "2                  0.08758          NaN  \n",
              "3                  0.17300          NaN  \n",
              "4                  0.07678          NaN  \n",
              "\n",
              "[5 rows x 33 columns]"
            ],
            "text/html": [
              "\n",
              "  <div id=\"df-582cf2be-5fa6-4ae5-ae80-c5f016c12c6d\" class=\"colab-df-container\">\n",
              "    <div>\n",
              "<style scoped>\n",
              "    .dataframe tbody tr th:only-of-type {\n",
              "        vertical-align: middle;\n",
              "    }\n",
              "\n",
              "    .dataframe tbody tr th {\n",
              "        vertical-align: top;\n",
              "    }\n",
              "\n",
              "    .dataframe thead th {\n",
              "        text-align: right;\n",
              "    }\n",
              "</style>\n",
              "<table border=\"1\" class=\"dataframe\">\n",
              "  <thead>\n",
              "    <tr style=\"text-align: right;\">\n",
              "      <th></th>\n",
              "      <th>id</th>\n",
              "      <th>diagnosis</th>\n",
              "      <th>radius_mean</th>\n",
              "      <th>texture_mean</th>\n",
              "      <th>perimeter_mean</th>\n",
              "      <th>area_mean</th>\n",
              "      <th>smoothness_mean</th>\n",
              "      <th>compactness_mean</th>\n",
              "      <th>concavity_mean</th>\n",
              "      <th>concave points_mean</th>\n",
              "      <th>...</th>\n",
              "      <th>texture_worst</th>\n",
              "      <th>perimeter_worst</th>\n",
              "      <th>area_worst</th>\n",
              "      <th>smoothness_worst</th>\n",
              "      <th>compactness_worst</th>\n",
              "      <th>concavity_worst</th>\n",
              "      <th>concave points_worst</th>\n",
              "      <th>symmetry_worst</th>\n",
              "      <th>fractal_dimension_worst</th>\n",
              "      <th>Unnamed: 32</th>\n",
              "    </tr>\n",
              "  </thead>\n",
              "  <tbody>\n",
              "    <tr>\n",
              "      <th>0</th>\n",
              "      <td>842302</td>\n",
              "      <td>M</td>\n",
              "      <td>17.99</td>\n",
              "      <td>10.38</td>\n",
              "      <td>122.80</td>\n",
              "      <td>1001.0</td>\n",
              "      <td>0.11840</td>\n",
              "      <td>0.27760</td>\n",
              "      <td>0.3001</td>\n",
              "      <td>0.14710</td>\n",
              "      <td>...</td>\n",
              "      <td>17.33</td>\n",
              "      <td>184.60</td>\n",
              "      <td>2019.0</td>\n",
              "      <td>0.1622</td>\n",
              "      <td>0.6656</td>\n",
              "      <td>0.7119</td>\n",
              "      <td>0.2654</td>\n",
              "      <td>0.4601</td>\n",
              "      <td>0.11890</td>\n",
              "      <td>NaN</td>\n",
              "    </tr>\n",
              "    <tr>\n",
              "      <th>1</th>\n",
              "      <td>842517</td>\n",
              "      <td>M</td>\n",
              "      <td>20.57</td>\n",
              "      <td>17.77</td>\n",
              "      <td>132.90</td>\n",
              "      <td>1326.0</td>\n",
              "      <td>0.08474</td>\n",
              "      <td>0.07864</td>\n",
              "      <td>0.0869</td>\n",
              "      <td>0.07017</td>\n",
              "      <td>...</td>\n",
              "      <td>23.41</td>\n",
              "      <td>158.80</td>\n",
              "      <td>1956.0</td>\n",
              "      <td>0.1238</td>\n",
              "      <td>0.1866</td>\n",
              "      <td>0.2416</td>\n",
              "      <td>0.1860</td>\n",
              "      <td>0.2750</td>\n",
              "      <td>0.08902</td>\n",
              "      <td>NaN</td>\n",
              "    </tr>\n",
              "    <tr>\n",
              "      <th>2</th>\n",
              "      <td>84300903</td>\n",
              "      <td>M</td>\n",
              "      <td>19.69</td>\n",
              "      <td>21.25</td>\n",
              "      <td>130.00</td>\n",
              "      <td>1203.0</td>\n",
              "      <td>0.10960</td>\n",
              "      <td>0.15990</td>\n",
              "      <td>0.1974</td>\n",
              "      <td>0.12790</td>\n",
              "      <td>...</td>\n",
              "      <td>25.53</td>\n",
              "      <td>152.50</td>\n",
              "      <td>1709.0</td>\n",
              "      <td>0.1444</td>\n",
              "      <td>0.4245</td>\n",
              "      <td>0.4504</td>\n",
              "      <td>0.2430</td>\n",
              "      <td>0.3613</td>\n",
              "      <td>0.08758</td>\n",
              "      <td>NaN</td>\n",
              "    </tr>\n",
              "    <tr>\n",
              "      <th>3</th>\n",
              "      <td>84348301</td>\n",
              "      <td>M</td>\n",
              "      <td>11.42</td>\n",
              "      <td>20.38</td>\n",
              "      <td>77.58</td>\n",
              "      <td>386.1</td>\n",
              "      <td>0.14250</td>\n",
              "      <td>0.28390</td>\n",
              "      <td>0.2414</td>\n",
              "      <td>0.10520</td>\n",
              "      <td>...</td>\n",
              "      <td>26.50</td>\n",
              "      <td>98.87</td>\n",
              "      <td>567.7</td>\n",
              "      <td>0.2098</td>\n",
              "      <td>0.8663</td>\n",
              "      <td>0.6869</td>\n",
              "      <td>0.2575</td>\n",
              "      <td>0.6638</td>\n",
              "      <td>0.17300</td>\n",
              "      <td>NaN</td>\n",
              "    </tr>\n",
              "    <tr>\n",
              "      <th>4</th>\n",
              "      <td>84358402</td>\n",
              "      <td>M</td>\n",
              "      <td>20.29</td>\n",
              "      <td>14.34</td>\n",
              "      <td>135.10</td>\n",
              "      <td>1297.0</td>\n",
              "      <td>0.10030</td>\n",
              "      <td>0.13280</td>\n",
              "      <td>0.1980</td>\n",
              "      <td>0.10430</td>\n",
              "      <td>...</td>\n",
              "      <td>16.67</td>\n",
              "      <td>152.20</td>\n",
              "      <td>1575.0</td>\n",
              "      <td>0.1374</td>\n",
              "      <td>0.2050</td>\n",
              "      <td>0.4000</td>\n",
              "      <td>0.1625</td>\n",
              "      <td>0.2364</td>\n",
              "      <td>0.07678</td>\n",
              "      <td>NaN</td>\n",
              "    </tr>\n",
              "  </tbody>\n",
              "</table>\n",
              "<p>5 rows × 33 columns</p>\n",
              "</div>\n",
              "    <div class=\"colab-df-buttons\">\n",
              "\n",
              "  <div class=\"colab-df-container\">\n",
              "    <button class=\"colab-df-convert\" onclick=\"convertToInteractive('df-582cf2be-5fa6-4ae5-ae80-c5f016c12c6d')\"\n",
              "            title=\"Convert this dataframe to an interactive table.\"\n",
              "            style=\"display:none;\">\n",
              "\n",
              "  <svg xmlns=\"http://www.w3.org/2000/svg\" height=\"24px\" viewBox=\"0 -960 960 960\">\n",
              "    <path d=\"M120-120v-720h720v720H120Zm60-500h600v-160H180v160Zm220 220h160v-160H400v160Zm0 220h160v-160H400v160ZM180-400h160v-160H180v160Zm440 0h160v-160H620v160ZM180-180h160v-160H180v160Zm440 0h160v-160H620v160Z\"/>\n",
              "  </svg>\n",
              "    </button>\n",
              "\n",
              "  <style>\n",
              "    .colab-df-container {\n",
              "      display:flex;\n",
              "      gap: 12px;\n",
              "    }\n",
              "\n",
              "    .colab-df-convert {\n",
              "      background-color: #E8F0FE;\n",
              "      border: none;\n",
              "      border-radius: 50%;\n",
              "      cursor: pointer;\n",
              "      display: none;\n",
              "      fill: #1967D2;\n",
              "      height: 32px;\n",
              "      padding: 0 0 0 0;\n",
              "      width: 32px;\n",
              "    }\n",
              "\n",
              "    .colab-df-convert:hover {\n",
              "      background-color: #E2EBFA;\n",
              "      box-shadow: 0px 1px 2px rgba(60, 64, 67, 0.3), 0px 1px 3px 1px rgba(60, 64, 67, 0.15);\n",
              "      fill: #174EA6;\n",
              "    }\n",
              "\n",
              "    .colab-df-buttons div {\n",
              "      margin-bottom: 4px;\n",
              "    }\n",
              "\n",
              "    [theme=dark] .colab-df-convert {\n",
              "      background-color: #3B4455;\n",
              "      fill: #D2E3FC;\n",
              "    }\n",
              "\n",
              "    [theme=dark] .colab-df-convert:hover {\n",
              "      background-color: #434B5C;\n",
              "      box-shadow: 0px 1px 3px 1px rgba(0, 0, 0, 0.15);\n",
              "      filter: drop-shadow(0px 1px 2px rgba(0, 0, 0, 0.3));\n",
              "      fill: #FFFFFF;\n",
              "    }\n",
              "  </style>\n",
              "\n",
              "    <script>\n",
              "      const buttonEl =\n",
              "        document.querySelector('#df-582cf2be-5fa6-4ae5-ae80-c5f016c12c6d button.colab-df-convert');\n",
              "      buttonEl.style.display =\n",
              "        google.colab.kernel.accessAllowed ? 'block' : 'none';\n",
              "\n",
              "      async function convertToInteractive(key) {\n",
              "        const element = document.querySelector('#df-582cf2be-5fa6-4ae5-ae80-c5f016c12c6d');\n",
              "        const dataTable =\n",
              "          await google.colab.kernel.invokeFunction('convertToInteractive',\n",
              "                                                    [key], {});\n",
              "        if (!dataTable) return;\n",
              "\n",
              "        const docLinkHtml = 'Like what you see? Visit the ' +\n",
              "          '<a target=\"_blank\" href=https://colab.research.google.com/notebooks/data_table.ipynb>data table notebook</a>'\n",
              "          + ' to learn more about interactive tables.';\n",
              "        element.innerHTML = '';\n",
              "        dataTable['output_type'] = 'display_data';\n",
              "        await google.colab.output.renderOutput(dataTable, element);\n",
              "        const docLink = document.createElement('div');\n",
              "        docLink.innerHTML = docLinkHtml;\n",
              "        element.appendChild(docLink);\n",
              "      }\n",
              "    </script>\n",
              "  </div>\n",
              "\n",
              "\n",
              "<div id=\"df-53b2223e-2f91-418d-97f1-1281233e81fd\">\n",
              "  <button class=\"colab-df-quickchart\" onclick=\"quickchart('df-53b2223e-2f91-418d-97f1-1281233e81fd')\"\n",
              "            title=\"Suggest charts.\"\n",
              "            style=\"display:none;\">\n",
              "\n",
              "<svg xmlns=\"http://www.w3.org/2000/svg\" height=\"24px\"viewBox=\"0 0 24 24\"\n",
              "     width=\"24px\">\n",
              "    <g>\n",
              "        <path d=\"M19 3H5c-1.1 0-2 .9-2 2v14c0 1.1.9 2 2 2h14c1.1 0 2-.9 2-2V5c0-1.1-.9-2-2-2zM9 17H7v-7h2v7zm4 0h-2V7h2v10zm4 0h-2v-4h2v4z\"/>\n",
              "    </g>\n",
              "</svg>\n",
              "  </button>\n",
              "\n",
              "<style>\n",
              "  .colab-df-quickchart {\n",
              "    background-color: #E8F0FE;\n",
              "    border: none;\n",
              "    border-radius: 50%;\n",
              "    cursor: pointer;\n",
              "    display: none;\n",
              "    fill: #1967D2;\n",
              "    height: 32px;\n",
              "    padding: 0 0 0 0;\n",
              "    width: 32px;\n",
              "  }\n",
              "\n",
              "  .colab-df-quickchart:hover {\n",
              "    background-color: #E2EBFA;\n",
              "    box-shadow: 0px 1px 2px rgba(60, 64, 67, 0.3), 0px 1px 3px 1px rgba(60, 64, 67, 0.15);\n",
              "    fill: #174EA6;\n",
              "  }\n",
              "\n",
              "  [theme=dark] .colab-df-quickchart {\n",
              "    background-color: #3B4455;\n",
              "    fill: #D2E3FC;\n",
              "  }\n",
              "\n",
              "  [theme=dark] .colab-df-quickchart:hover {\n",
              "    background-color: #434B5C;\n",
              "    box-shadow: 0px 1px 3px 1px rgba(0, 0, 0, 0.15);\n",
              "    filter: drop-shadow(0px 1px 2px rgba(0, 0, 0, 0.3));\n",
              "    fill: #FFFFFF;\n",
              "  }\n",
              "</style>\n",
              "\n",
              "  <script>\n",
              "    async function quickchart(key) {\n",
              "      const charts = await google.colab.kernel.invokeFunction(\n",
              "          'suggestCharts', [key], {});\n",
              "    }\n",
              "    (() => {\n",
              "      let quickchartButtonEl =\n",
              "        document.querySelector('#df-53b2223e-2f91-418d-97f1-1281233e81fd button');\n",
              "      quickchartButtonEl.style.display =\n",
              "        google.colab.kernel.accessAllowed ? 'block' : 'none';\n",
              "    })();\n",
              "  </script>\n",
              "</div>\n",
              "    </div>\n",
              "  </div>\n"
            ]
          },
          "metadata": {},
          "execution_count": 2
        }
      ]
    },
    {
      "cell_type": "code",
      "source": [
        "import seaborn as sns\n",
        "sns.countplot(x=data['diagnosis'],label='Count')\n",
        "Benign,Malignant = data['diagnosis'].value_counts()\n",
        "print('Benign: ',Benign)\n",
        "print('Malignant: ',Malignant)\n"
      ],
      "metadata": {
        "colab": {
          "base_uri": "https://localhost:8080/",
          "height": 485
        },
        "id": "lP6Y1s98NeV_",
        "outputId": "c51a9ca4-e5ae-49fd-e54b-785486c3081f"
      },
      "execution_count": 3,
      "outputs": [
        {
          "output_type": "stream",
          "name": "stdout",
          "text": [
            "Benign:  357\n",
            "Malignant:  212\n"
          ]
        },
        {
          "output_type": "display_data",
          "data": {
            "text/plain": [
              "<Figure size 640x480 with 1 Axes>"
            ],
            "image/png": "[encoded data removed]"
          },
          "metadata": {}
        }
      ]
    },
    {
      "cell_type": "code",
      "source": [
        "# Remove Unnamed 32 column in the given dataframe\n",
        "del data['Unnamed: 32']"
      ],
      "metadata": {
        "id": "TpS9LGQYN4SY"
      },
      "execution_count": 4,
      "outputs": []
    },
    {
      "cell_type": "code",
      "source": [
        "#Separate the X and y from the dataframe\n",
        "X = data.iloc[:,2:].values\n",
        "y = data['diagnosis'].values\n"
      ],
      "metadata": {
        "id": "7cQuIQgqUZnw"
      },
      "execution_count": 5,
      "outputs": []
    },
    {
      "cell_type": "code",
      "source": [
        "#Let's encode the categorical data in y by labelencoder\n",
        "from sklearn.preprocessing import LabelEncoder\n",
        "y = LabelEncoder().fit_transform(y)"
      ],
      "metadata": {
        "id": "s3o2gyGtWqE-"
      },
      "execution_count": 6,
      "outputs": []
    },
    {
      "cell_type": "code",
      "source": [
        "#Splitting the data into the training and testing set\n",
        "from sklearn.model_selection import train_test_split\n",
        "X_train, X_test, y_train, y_test = train_test_split(X,y, test_size=0.3, random_state=0)\n"
      ],
      "metadata": {
        "id": "VEEuC4YaXBJf"
      },
      "execution_count": 7,
      "outputs": []
    },
    {
      "cell_type": "code",
      "source": [
        "#Feature Scaling\n",
        "from sklearn.preprocessing import StandardScaler\n",
        "sc = StandardScaler()\n",
        "X_train = sc.fit_transform(X_train)\n",
        "X_test = sc.transform(X_test)"
      ],
      "metadata": {
        "id": "5UyCVOTr3Ldf"
      },
      "execution_count": 8,
      "outputs": []
    },
    {
      "cell_type": "code",
      "source": [
        "X_train"
      ],
      "metadata": {
        "colab": {
          "base_uri": "https://localhost:8080/"
        },
        "id": "5ts0aj1R31UD",
        "outputId": "f173cc8b-018c-4b1a-d6c9-161eb18b505f"
      },
      "execution_count": 9,
      "outputs": [
        {
          "output_type": "execute_result",
          "data": {
            "text/plain": [
              "array([[-0.74998027, -1.09978744, -0.74158608, ..., -0.6235968 ,\n",
              "         0.07754241,  0.45062841],\n",
              "       [-1.02821446, -0.1392617 , -1.02980434, ..., -0.7612376 ,\n",
              "        -1.07145262, -0.29541379],\n",
              "       [-0.53852228, -0.29934933, -0.56857428, ..., -0.50470441,\n",
              "         0.34900827, -0.13371556],\n",
              "       ...,\n",
              "       [-1.3214733 , -0.20855336, -1.3143845 , ..., -0.98621857,\n",
              "        -0.69108476, -0.13148524],\n",
              "       [-1.24245479, -0.23244704, -1.27759928, ..., -1.7562754 ,\n",
              "        -1.55125275, -1.01078909],\n",
              "       [-0.74441558,  1.13188181, -0.72016173, ..., -0.28490593,\n",
              "        -1.2308599 ,  0.20083251]])"
            ]
          },
          "metadata": {},
          "execution_count": 9
        }
      ]
    },
    {
      "cell_type": "code",
      "source": [
        "X_test"
      ],
      "metadata": {
        "colab": {
          "base_uri": "https://localhost:8080/"
        },
        "id": "qLiMayuC33jE",
        "outputId": "04112edd-3a9d-4630-9f88-69b270adf426"
      },
      "execution_count": 10,
      "outputs": [
        {
          "output_type": "execute_result",
          "data": {
            "text/plain": [
              "array([[-0.21855296,  0.31710749, -0.14938447, ...,  1.36998461,\n",
              "         1.0939611 ,  1.51560644],\n",
              "       [-0.27141746,  1.44727832, -0.33290634, ..., -0.84095647,\n",
              "        -0.70686766, -0.88310324],\n",
              "       [-0.04604776, -0.84412512, -0.11098232, ..., -0.50394228,\n",
              "        -1.19298094, -0.92659449],\n",
              "       ...,\n",
              "       [-0.13230036, -0.12253613, -0.14574637, ...,  0.20087616,\n",
              "        -0.06766026,  0.36754897],\n",
              "       [-0.24637638,  0.56799108, -0.28682376, ..., -0.90055508,\n",
              "        -0.40225771, -0.95558866],\n",
              "       [-1.35013142,  0.65639767, -1.34712739, ..., -1.36545479,\n",
              "        -0.72107227, -0.54576727]])"
            ]
          },
          "metadata": {},
          "execution_count": 10
        }
      ]
    },
    {
      "cell_type": "code",
      "source": [
        "!pip install keras"
      ],
      "metadata": {
        "colab": {
          "base_uri": "https://localhost:8080/"
        },
        "id": "mSGppiiY4B4Z",
        "outputId": "3ff7a80b-9c71-4774-e2e7-d86ddf403a55"
      },
      "execution_count": 11,
      "outputs": [
        {
          "output_type": "stream",
          "name": "stdout",
          "text": [
            "Requirement already satisfied: keras in /usr/local/lib/python3.10/dist-packages (2.12.0)\n"
          ]
        }
      ]
    },
    {
      "cell_type": "code",
      "source": [
        "import keras\n",
        "from keras.models import Sequential\n",
        "from keras.layers import Dense"
      ],
      "metadata": {
        "id": "hxdZxNhT4DpY"
      },
      "execution_count": 12,
      "outputs": []
    },
    {
      "cell_type": "code",
      "source": [
        "from keras.layers import Dropout\n",
        "\n",
        "#adding the input and the first hidden layer\n",
        "\n",
        "classifier = Sequential()\n",
        "classifier.add(Dense(units=16,activation='relu',input_dim=30))\n",
        "#classifier.add(Dropout(p=1.0))\n",
        "\n",
        "#adding the second hidden layer\n",
        "classifier.add(Dense(units=16,activation='relu'))\n",
        "#classifier.add(Dropout(1.0))\n",
        "\n",
        "#adding the output layer\n",
        "classifier.add(Dense(units=1,activation='sigmoid'))"
      ],
      "metadata": {
        "id": "-wZoigSO4TPo"
      },
      "execution_count": 13,
      "outputs": []
    },
    {
      "cell_type": "code",
      "source": [
        "#Now let's compile the model with the optimizer(eg. gradient dececnt) as Adam and loss fn as binary crossentropy\n",
        "classifier.compile(optimizer='Adam', loss='binary_crossentropy', metrics=['accuracy'])"
      ],
      "metadata": {
        "id": "TvWCo8-C6vRZ"
      },
      "execution_count": 14,
      "outputs": []
    },
    {
      "cell_type": "code",
      "source": [
        "classifier.fit(X_train, y_train, batch_size=100, epochs=150)"
      ],
      "metadata": {
        "colab": {
          "base_uri": "https://localhost:8080/"
        },
        "id": "ky9arcvajVwU",
        "outputId": "73ab4e18-5340-4464-fce8-a1f4c1827da6"
      },
      "execution_count": 15,
      "outputs": [
        {
          "output_type": "stream",
          "name": "stdout",
          "text": [
            "Epoch 1/150\n",
            "4/4 [==============================] - 1s 4ms/step - loss: 0.9524 - accuracy: 0.1910\n",
            "Epoch 2/150\n",
            "4/4 [==============================] - 0s 4ms/step - loss: 0.8890 - accuracy: 0.2387\n",
            "Epoch 3/150\n",
            "4/4 [==============================] - 0s 3ms/step - loss: 0.8311 - accuracy: 0.2839\n",
            "Epoch 4/150\n",
            "4/4 [==============================] - 0s 2ms/step - loss: 0.7794 - accuracy: 0.3342\n",
            "Epoch 5/150\n",
            "4/4 [==============================] - 0s 3ms/step - loss: 0.7355 - accuracy: 0.3693\n",
            "Epoch 6/150\n",
            "4/4 [==============================] - 0s 3ms/step - loss: 0.6954 - accuracy: 0.4372\n",
            "Epoch 7/150\n",
            "4/4 [==============================] - 0s 3ms/step - loss: 0.6605 - accuracy: 0.4950\n",
            "Epoch 8/150\n",
            "4/4 [==============================] - 0s 2ms/step - loss: 0.6285 - accuracy: 0.5553\n",
            "Epoch 9/150\n",
            "4/4 [==============================] - 0s 7ms/step - loss: 0.5981 - accuracy: 0.6457\n",
            "Epoch 10/150\n",
            "4/4 [==============================] - 0s 5ms/step - loss: 0.5691 - accuracy: 0.7387\n",
            "Epoch 11/150\n",
            "4/4 [==============================] - 0s 4ms/step - loss: 0.5409 - accuracy: 0.8116\n",
            "Epoch 12/150\n",
            "4/4 [==============================] - 0s 3ms/step - loss: 0.5116 - accuracy: 0.8492\n",
            "Epoch 13/150\n",
            "4/4 [==============================] - 0s 5ms/step - loss: 0.4834 - accuracy: 0.8869\n",
            "Epoch 14/150\n",
            "4/4 [==============================] - 0s 5ms/step - loss: 0.4552 - accuracy: 0.9196\n",
            "Epoch 15/150\n",
            "4/4 [==============================] - 0s 3ms/step - loss: 0.4279 - accuracy: 0.9296\n",
            "Epoch 16/150\n",
            "4/4 [==============================] - 0s 3ms/step - loss: 0.4006 - accuracy: 0.9397\n",
            "Epoch 17/150\n",
            "4/4 [==============================] - 0s 4ms/step - loss: 0.3756 - accuracy: 0.9422\n",
            "Epoch 18/150\n",
            "4/4 [==============================] - 0s 5ms/step - loss: 0.3516 - accuracy: 0.9548\n",
            "Epoch 19/150\n",
            "4/4 [==============================] - 0s 3ms/step - loss: 0.3287 - accuracy: 0.9648\n",
            "Epoch 20/150\n",
            "4/4 [==============================] - 0s 3ms/step - loss: 0.3068 - accuracy: 0.9698\n",
            "Epoch 21/150\n",
            "4/4 [==============================] - 0s 3ms/step - loss: 0.2862 - accuracy: 0.9698\n",
            "Epoch 22/150\n",
            "4/4 [==============================] - 0s 3ms/step - loss: 0.2670 - accuracy: 0.9724\n",
            "Epoch 23/150\n",
            "4/4 [==============================] - 0s 3ms/step - loss: 0.2498 - accuracy: 0.9724\n",
            "Epoch 24/150\n",
            "4/4 [==============================] - 0s 3ms/step - loss: 0.2338 - accuracy: 0.9698\n",
            "Epoch 25/150\n",
            "4/4 [==============================] - 0s 3ms/step - loss: 0.2192 - accuracy: 0.9698\n",
            "Epoch 26/150\n",
            "4/4 [==============================] - 0s 4ms/step - loss: 0.2061 - accuracy: 0.9698\n",
            "Epoch 27/150\n",
            "4/4 [==============================] - 0s 3ms/step - loss: 0.1945 - accuracy: 0.9724\n",
            "Epoch 28/150\n",
            "4/4 [==============================] - 0s 4ms/step - loss: 0.1835 - accuracy: 0.9724\n",
            "Epoch 29/150\n",
            "4/4 [==============================] - 0s 3ms/step - loss: 0.1740 - accuracy: 0.9724\n",
            "Epoch 30/150\n",
            "4/4 [==============================] - 0s 3ms/step - loss: 0.1653 - accuracy: 0.9724\n",
            "Epoch 31/150\n",
            "4/4 [==============================] - 0s 3ms/step - loss: 0.1576 - accuracy: 0.9724\n",
            "Epoch 32/150\n",
            "4/4 [==============================] - 0s 3ms/step - loss: 0.1506 - accuracy: 0.9724\n",
            "Epoch 33/150\n",
            "4/4 [==============================] - 0s 3ms/step - loss: 0.1444 - accuracy: 0.9698\n",
            "Epoch 34/150\n",
            "4/4 [==============================] - 0s 4ms/step - loss: 0.1385 - accuracy: 0.9749\n",
            "Epoch 35/150\n",
            "4/4 [==============================] - 0s 3ms/step - loss: 0.1332 - accuracy: 0.9774\n",
            "Epoch 36/150\n",
            "4/4 [==============================] - 0s 3ms/step - loss: 0.1287 - accuracy: 0.9774\n",
            "Epoch 37/150\n",
            "4/4 [==============================] - 0s 3ms/step - loss: 0.1243 - accuracy: 0.9774\n",
            "Epoch 38/150\n",
            "4/4 [==============================] - 0s 3ms/step - loss: 0.1204 - accuracy: 0.9774\n",
            "Epoch 39/150\n",
            "4/4 [==============================] - 0s 3ms/step - loss: 0.1168 - accuracy: 0.9774\n",
            "Epoch 40/150\n",
            "4/4 [==============================] - 0s 3ms/step - loss: 0.1134 - accuracy: 0.9774\n",
            "Epoch 41/150\n",
            "4/4 [==============================] - 0s 3ms/step - loss: 0.1103 - accuracy: 0.9774\n",
            "Epoch 42/150\n",
            "4/4 [==============================] - 0s 3ms/step - loss: 0.1075 - accuracy: 0.9774\n",
            "Epoch 43/150\n",
            "4/4 [==============================] - 0s 3ms/step - loss: 0.1048 - accuracy: 0.9774\n",
            "Epoch 44/150\n",
            "4/4 [==============================] - 0s 3ms/step - loss: 0.1023 - accuracy: 0.9799\n",
            "Epoch 45/150\n",
            "4/4 [==============================] - 0s 3ms/step - loss: 0.1002 - accuracy: 0.9799\n",
            "Epoch 46/150\n",
            "4/4 [==============================] - 0s 3ms/step - loss: 0.0980 - accuracy: 0.9799\n",
            "Epoch 47/150\n",
            "4/4 [==============================] - 0s 2ms/step - loss: 0.0960 - accuracy: 0.9799\n",
            "Epoch 48/150\n",
            "4/4 [==============================] - 0s 3ms/step - loss: 0.0941 - accuracy: 0.9799\n",
            "Epoch 49/150\n",
            "4/4 [==============================] - 0s 3ms/step - loss: 0.0924 - accuracy: 0.9799\n",
            "Epoch 50/150\n",
            "4/4 [==============================] - 0s 3ms/step - loss: 0.0906 - accuracy: 0.9799\n",
            "Epoch 51/150\n",
            "4/4 [==============================] - 0s 3ms/step - loss: 0.0892 - accuracy: 0.9799\n",
            "Epoch 52/150\n",
            "4/4 [==============================] - 0s 4ms/step - loss: 0.0877 - accuracy: 0.9799\n",
            "Epoch 53/150\n",
            "4/4 [==============================] - 0s 4ms/step - loss: 0.0863 - accuracy: 0.9799\n",
            "Epoch 54/150\n",
            "4/4 [==============================] - 0s 3ms/step - loss: 0.0850 - accuracy: 0.9824\n",
            "Epoch 55/150\n",
            "4/4 [==============================] - 0s 4ms/step - loss: 0.0836 - accuracy: 0.9824\n",
            "Epoch 56/150\n",
            "4/4 [==============================] - 0s 3ms/step - loss: 0.0825 - accuracy: 0.9824\n",
            "Epoch 57/150\n",
            "4/4 [==============================] - 0s 4ms/step - loss: 0.0814 - accuracy: 0.9824\n",
            "Epoch 58/150\n",
            "4/4 [==============================] - 0s 3ms/step - loss: 0.0802 - accuracy: 0.9824\n",
            "Epoch 59/150\n",
            "4/4 [==============================] - 0s 4ms/step - loss: 0.0791 - accuracy: 0.9824\n",
            "Epoch 60/150\n",
            "4/4 [==============================] - 0s 6ms/step - loss: 0.0782 - accuracy: 0.9824\n",
            "Epoch 61/150\n",
            "4/4 [==============================] - 0s 4ms/step - loss: 0.0773 - accuracy: 0.9824\n",
            "Epoch 62/150\n",
            "4/4 [==============================] - 0s 4ms/step - loss: 0.0764 - accuracy: 0.9824\n",
            "Epoch 63/150\n",
            "4/4 [==============================] - 0s 3ms/step - loss: 0.0755 - accuracy: 0.9824\n",
            "Epoch 64/150\n",
            "4/4 [==============================] - 0s 3ms/step - loss: 0.0746 - accuracy: 0.9824\n",
            "Epoch 65/150\n",
            "4/4 [==============================] - 0s 3ms/step - loss: 0.0739 - accuracy: 0.9824\n",
            "Epoch 66/150\n",
            "4/4 [==============================] - 0s 2ms/step - loss: 0.0731 - accuracy: 0.9824\n",
            "Epoch 67/150\n",
            "4/4 [==============================] - 0s 3ms/step - loss: 0.0724 - accuracy: 0.9824\n",
            "Epoch 68/150\n",
            "4/4 [==============================] - 0s 3ms/step - loss: 0.0717 - accuracy: 0.9824\n",
            "Epoch 69/150\n",
            "4/4 [==============================] - 0s 3ms/step - loss: 0.0710 - accuracy: 0.9824\n",
            "Epoch 70/150\n",
            "4/4 [==============================] - 0s 2ms/step - loss: 0.0703 - accuracy: 0.9824\n",
            "Epoch 71/150\n",
            "4/4 [==============================] - 0s 3ms/step - loss: 0.0697 - accuracy: 0.9824\n",
            "Epoch 72/150\n",
            "4/4 [==============================] - 0s 4ms/step - loss: 0.0690 - accuracy: 0.9824\n",
            "Epoch 73/150\n",
            "4/4 [==============================] - 0s 3ms/step - loss: 0.0684 - accuracy: 0.9824\n",
            "Epoch 74/150\n",
            "4/4 [==============================] - 0s 3ms/step - loss: 0.0678 - accuracy: 0.9824\n",
            "Epoch 75/150\n",
            "4/4 [==============================] - 0s 3ms/step - loss: 0.0672 - accuracy: 0.9824\n",
            "Epoch 76/150\n",
            "4/4 [==============================] - 0s 3ms/step - loss: 0.0666 - accuracy: 0.9849\n",
            "Epoch 77/150\n",
            "4/4 [==============================] - 0s 3ms/step - loss: 0.0661 - accuracy: 0.9849\n",
            "Epoch 78/150\n",
            "4/4 [==============================] - 0s 4ms/step - loss: 0.0655 - accuracy: 0.9849\n",
            "Epoch 79/150\n",
            "4/4 [==============================] - 0s 3ms/step - loss: 0.0650 - accuracy: 0.9849\n",
            "Epoch 80/150\n",
            "4/4 [==============================] - 0s 3ms/step - loss: 0.0645 - accuracy: 0.9849\n",
            "Epoch 81/150\n",
            "4/4 [==============================] - 0s 3ms/step - loss: 0.0640 - accuracy: 0.9849\n",
            "Epoch 82/150\n",
            "4/4 [==============================] - 0s 3ms/step - loss: 0.0635 - accuracy: 0.9849\n",
            "Epoch 83/150\n",
            "4/4 [==============================] - 0s 3ms/step - loss: 0.0630 - accuracy: 0.9849\n",
            "Epoch 84/150\n",
            "4/4 [==============================] - 0s 3ms/step - loss: 0.0625 - accuracy: 0.9849\n",
            "Epoch 85/150\n",
            "4/4 [==============================] - 0s 3ms/step - loss: 0.0620 - accuracy: 0.9849\n",
            "Epoch 86/150\n",
            "4/4 [==============================] - 0s 3ms/step - loss: 0.0616 - accuracy: 0.9849\n",
            "Epoch 87/150\n",
            "4/4 [==============================] - 0s 3ms/step - loss: 0.0611 - accuracy: 0.9849\n",
            "Epoch 88/150\n",
            "4/4 [==============================] - 0s 3ms/step - loss: 0.0607 - accuracy: 0.9849\n",
            "Epoch 89/150\n",
            "4/4 [==============================] - 0s 3ms/step - loss: 0.0603 - accuracy: 0.9849\n",
            "Epoch 90/150\n",
            "4/4 [==============================] - 0s 3ms/step - loss: 0.0598 - accuracy: 0.9849\n",
            "Epoch 91/150\n",
            "4/4 [==============================] - 0s 3ms/step - loss: 0.0594 - accuracy: 0.9849\n",
            "Epoch 92/150\n",
            "4/4 [==============================] - 0s 4ms/step - loss: 0.0590 - accuracy: 0.9849\n",
            "Epoch 93/150\n",
            "4/4 [==============================] - 0s 3ms/step - loss: 0.0586 - accuracy: 0.9849\n",
            "Epoch 94/150\n",
            "4/4 [==============================] - 0s 3ms/step - loss: 0.0582 - accuracy: 0.9849\n",
            "Epoch 95/150\n",
            "4/4 [==============================] - 0s 3ms/step - loss: 0.0577 - accuracy: 0.9849\n",
            "Epoch 96/150\n",
            "4/4 [==============================] - 0s 3ms/step - loss: 0.0574 - accuracy: 0.9849\n",
            "Epoch 97/150\n",
            "4/4 [==============================] - 0s 3ms/step - loss: 0.0569 - accuracy: 0.9849\n",
            "Epoch 98/150\n",
            "4/4 [==============================] - 0s 3ms/step - loss: 0.0565 - accuracy: 0.9849\n",
            "Epoch 99/150\n",
            "4/4 [==============================] - 0s 3ms/step - loss: 0.0562 - accuracy: 0.9849\n",
            "Epoch 100/150\n",
            "4/4 [==============================] - 0s 3ms/step - loss: 0.0558 - accuracy: 0.9849\n",
            "Epoch 101/150\n",
            "4/4 [==============================] - 0s 3ms/step - loss: 0.0554 - accuracy: 0.9849\n",
            "Epoch 102/150\n",
            "4/4 [==============================] - 0s 3ms/step - loss: 0.0550 - accuracy: 0.9849\n",
            "Epoch 103/150\n",
            "4/4 [==============================] - 0s 3ms/step - loss: 0.0547 - accuracy: 0.9849\n",
            "Epoch 104/150\n",
            "4/4 [==============================] - 0s 3ms/step - loss: 0.0543 - accuracy: 0.9874\n",
            "Epoch 105/150\n",
            "4/4 [==============================] - 0s 3ms/step - loss: 0.0539 - accuracy: 0.9874\n",
            "Epoch 106/150\n",
            "4/4 [==============================] - 0s 3ms/step - loss: 0.0535 - accuracy: 0.9874\n",
            "Epoch 107/150\n",
            "4/4 [==============================] - 0s 3ms/step - loss: 0.0532 - accuracy: 0.9874\n",
            "Epoch 108/150\n",
            "4/4 [==============================] - 0s 3ms/step - loss: 0.0529 - accuracy: 0.9874\n",
            "Epoch 109/150\n",
            "4/4 [==============================] - 0s 3ms/step - loss: 0.0525 - accuracy: 0.9874\n",
            "Epoch 110/150\n",
            "4/4 [==============================] - 0s 3ms/step - loss: 0.0522 - accuracy: 0.9874\n",
            "Epoch 111/150\n",
            "4/4 [==============================] - 0s 3ms/step - loss: 0.0519 - accuracy: 0.9874\n",
            "Epoch 112/150\n",
            "4/4 [==============================] - 0s 4ms/step - loss: 0.0516 - accuracy: 0.9874\n",
            "Epoch 113/150\n",
            "4/4 [==============================] - 0s 3ms/step - loss: 0.0513 - accuracy: 0.9874\n",
            "Epoch 114/150\n",
            "4/4 [==============================] - 0s 5ms/step - loss: 0.0510 - accuracy: 0.9874\n",
            "Epoch 115/150\n",
            "4/4 [==============================] - 0s 5ms/step - loss: 0.0506 - accuracy: 0.9874\n",
            "Epoch 116/150\n",
            "4/4 [==============================] - 0s 4ms/step - loss: 0.0503 - accuracy: 0.9874\n",
            "Epoch 117/150\n",
            "4/4 [==============================] - 0s 4ms/step - loss: 0.0501 - accuracy: 0.9899\n",
            "Epoch 118/150\n",
            "4/4 [==============================] - 0s 4ms/step - loss: 0.0498 - accuracy: 0.9899\n",
            "Epoch 119/150\n",
            "4/4 [==============================] - 0s 4ms/step - loss: 0.0495 - accuracy: 0.9899\n",
            "Epoch 120/150\n",
            "4/4 [==============================] - 0s 4ms/step - loss: 0.0492 - accuracy: 0.9899\n",
            "Epoch 121/150\n",
            "4/4 [==============================] - 0s 4ms/step - loss: 0.0489 - accuracy: 0.9899\n",
            "Epoch 122/150\n",
            "4/4 [==============================] - 0s 3ms/step - loss: 0.0486 - accuracy: 0.9899\n",
            "Epoch 123/150\n",
            "4/4 [==============================] - 0s 4ms/step - loss: 0.0483 - accuracy: 0.9899\n",
            "Epoch 124/150\n",
            "4/4 [==============================] - 0s 5ms/step - loss: 0.0481 - accuracy: 0.9899\n",
            "Epoch 125/150\n",
            "4/4 [==============================] - 0s 4ms/step - loss: 0.0478 - accuracy: 0.9899\n",
            "Epoch 126/150\n",
            "4/4 [==============================] - 0s 7ms/step - loss: 0.0475 - accuracy: 0.9899\n",
            "Epoch 127/150\n",
            "4/4 [==============================] - 0s 4ms/step - loss: 0.0472 - accuracy: 0.9899\n",
            "Epoch 128/150\n",
            "4/4 [==============================] - 0s 3ms/step - loss: 0.0469 - accuracy: 0.9899\n",
            "Epoch 129/150\n",
            "4/4 [==============================] - 0s 4ms/step - loss: 0.0466 - accuracy: 0.9899\n",
            "Epoch 130/150\n",
            "4/4 [==============================] - 0s 4ms/step - loss: 0.0464 - accuracy: 0.9899\n",
            "Epoch 131/150\n",
            "4/4 [==============================] - 0s 5ms/step - loss: 0.0461 - accuracy: 0.9899\n",
            "Epoch 132/150\n",
            "4/4 [==============================] - 0s 4ms/step - loss: 0.0458 - accuracy: 0.9899\n",
            "Epoch 133/150\n",
            "4/4 [==============================] - 0s 4ms/step - loss: 0.0455 - accuracy: 0.9899\n",
            "Epoch 134/150\n",
            "4/4 [==============================] - 0s 4ms/step - loss: 0.0453 - accuracy: 0.9899\n",
            "Epoch 135/150\n",
            "4/4 [==============================] - 0s 4ms/step - loss: 0.0450 - accuracy: 0.9899\n",
            "Epoch 136/150\n",
            "4/4 [==============================] - 0s 3ms/step - loss: 0.0447 - accuracy: 0.9899\n",
            "Epoch 137/150\n",
            "4/4 [==============================] - 0s 5ms/step - loss: 0.0444 - accuracy: 0.9899\n",
            "Epoch 138/150\n",
            "4/4 [==============================] - 0s 3ms/step - loss: 0.0442 - accuracy: 0.9899\n",
            "Epoch 139/150\n",
            "4/4 [==============================] - 0s 3ms/step - loss: 0.0439 - accuracy: 0.9899\n",
            "Epoch 140/150\n",
            "4/4 [==============================] - 0s 3ms/step - loss: 0.0436 - accuracy: 0.9899\n",
            "Epoch 141/150\n",
            "4/4 [==============================] - 0s 4ms/step - loss: 0.0434 - accuracy: 0.9899\n",
            "Epoch 142/150\n",
            "4/4 [==============================] - 0s 4ms/step - loss: 0.0431 - accuracy: 0.9899\n",
            "Epoch 143/150\n",
            "4/4 [==============================] - 0s 4ms/step - loss: 0.0429 - accuracy: 0.9899\n",
            "Epoch 144/150\n",
            "4/4 [==============================] - 0s 3ms/step - loss: 0.0426 - accuracy: 0.9899\n",
            "Epoch 145/150\n",
            "4/4 [==============================] - 0s 3ms/step - loss: 0.0424 - accuracy: 0.9899\n",
            "Epoch 146/150\n",
            "4/4 [==============================] - 0s 3ms/step - loss: 0.0421 - accuracy: 0.9899\n",
            "Epoch 147/150\n",
            "4/4 [==============================] - 0s 3ms/step - loss: 0.0419 - accuracy: 0.9899\n",
            "Epoch 148/150\n",
            "4/4 [==============================] - 0s 3ms/step - loss: 0.0417 - accuracy: 0.9899\n",
            "Epoch 149/150\n",
            "4/4 [==============================] - 0s 4ms/step - loss: 0.0414 - accuracy: 0.9899\n",
            "Epoch 150/150\n",
            "4/4 [==============================] - 0s 3ms/step - loss: 0.0412 - accuracy: 0.9899\n"
          ]
        },
        {
          "output_type": "execute_result",
          "data": {
            "text/plain": [
              "<keras.callbacks.History at 0x7bf96c146320>"
            ]
          },
          "metadata": {},
          "execution_count": 15
        }
      ]
    },
    {
      "cell_type": "code",
      "source": [
        "#Predicting the Test set results\n",
        "y_pred = classifier.predict(X_test)\n",
        "y_pred = y_pred>0.5"
      ],
      "metadata": {
        "colab": {
          "base_uri": "https://localhost:8080/"
        },
        "id": "ukQDu4b8jiv8",
        "outputId": "d94ee1fc-aefa-4932-d4c6-c8f70ea140e6"
      },
      "execution_count": 16,
      "outputs": [
        {
          "output_type": "stream",
          "name": "stdout",
          "text": [
            "6/6 [==============================] - 0s 2ms/step\n"
          ]
        }
      ]
    },
    {
      "cell_type": "code",
      "source": [
        "#Let's make the confusion matrix\n",
        "from sklearn.metrics import confusion_matrix\n",
        "\n",
        "cm = confusion_matrix(y_test, y_pred)"
      ],
      "metadata": {
        "id": "4FFc-DackNq0"
      },
      "execution_count": 17,
      "outputs": []
    },
    {
      "cell_type": "code",
      "source": [
        "cm"
      ],
      "metadata": {
        "colab": {
          "base_uri": "https://localhost:8080/"
        },
        "id": "y8Gbu6wf575t",
        "outputId": "520a05aa-39e9-4ce6-c802-e88114f7a571"
      },
      "execution_count": 18,
      "outputs": [
        {
          "output_type": "execute_result",
          "data": {
            "text/plain": [
              "array([[105,   3],\n",
              "       [  3,  60]])"
            ]
          },
          "metadata": {},
          "execution_count": 18
        }
      ]
    },
    {
      "cell_type": "code",
      "source": [
        "sns.heatmap(cm, annot=True,fmt='.0f')"
      ],
      "metadata": {
        "colab": {
          "base_uri": "https://localhost:8080/",
          "height": 448
        },
        "id": "vzkcNiWRkZtC",
        "outputId": "659c0482-947d-4255-e8bd-20535957131b"
      },
      "execution_count": 20,
      "outputs": [
        {
          "output_type": "execute_result",
          "data": {
            "text/plain": [
              "<Axes: >"
            ]
          },
          "metadata": {},
          "execution_count": 20
        },
        {
          "output_type": "display_data",
          "data": {
            "text/plain": [
              "<Figure size 640x480 with 2 Axes>"
            ],
            "image/png": "[encoded data removed]"
          },
          "metadata": {}
        }
      ]
    },
    {
      "cell_type": "code",
      "source": [
        "#Accuracy after training\n",
        "(105+60)/(105+60+6)"
      ],
      "metadata": {
        "colab": {
          "base_uri": "https://localhost:8080/"
        },
        "id": "k43Cfq79kpT9",
        "outputId": "482ce2a8-7c58-4a3d-ffdc-28fee9f7b279"
      },
      "execution_count": 21,
      "outputs": [
        {
          "output_type": "execute_result",
          "data": {
            "text/plain": [
              "0.9649122807017544"
            ]
          },
          "metadata": {},
          "execution_count": 21
        }
      ]
    },
    {
      "cell_type": "code",
      "source": [],
      "metadata": {
        "id": "adCCFwPy6rI5"
      },
      "execution_count": null,
      "outputs": []
    }
  ]
}